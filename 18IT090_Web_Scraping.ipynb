{
  "nbformat": 4,
  "nbformat_minor": 0,
  "metadata": {
    "colab": {
      "name": "18IT090_Web_Scraping.ipynb",
      "provenance": [],
      "collapsed_sections": []
    },
    "kernelspec": {
      "name": "python3",
      "display_name": "Python 3"
    },
    "language_info": {
      "name": "python"
    }
  },
  "cells": [
    {
      "cell_type": "code",
      "metadata": {
        "id": "C0WzcBjDhxUZ"
      },
      "source": [
        "import requests\n",
        "from bs4 import BeautifulSoup\n",
        "import pandas as pd\n",
        "\n",
        "url = \"https://forecast.weather.gov/MapClick.php?lat=41.884250000000065&lon=-87.63244999999995#.XtpdeOfhXIX\"\n",
        "r = requests.get(url)\n",
        "soup = BeautifulSoup(r.content,\"html.parser\")\n",
        "week = soup.find(id=\"seven-day-forecast-body\")\n",
        "items = soup.find_all(\"div\",class_ = \"tombstone-container\")\n",
        "\n",
        "period_name = [item.find(class_=\"period-name\").get_text() for item in items]\n",
        "short_desc = [item.find(class_=\"short-desc\").get_text() for item in items]\n",
        "temp = [item.find(class_=\"temp\").get_text() for item in items]\n",
        "\n",
        "df = pd.DataFrame({\"Period\" : period_name,\"Short Description\" : short_desc,\"Temperature\" : temp})\n",
        "#print(df)\n",
        "df.to_csv(\"18IT090_WeatherData.csv\")"
      ],
      "execution_count": null,
      "outputs": []
    }
  ]
}